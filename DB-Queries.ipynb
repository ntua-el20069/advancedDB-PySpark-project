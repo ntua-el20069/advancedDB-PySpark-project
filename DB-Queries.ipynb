{
 "cells": [
  {
   "cell_type": "markdown",
   "id": "01a1a6c5-0af5-4465-844a-989baa7c91ce",
   "metadata": {},
   "source": [
    "## Time Measurement"
   ]
  },
  {
   "cell_type": "code",
   "execution_count": 1,
   "id": "aec3ea8e-47b3-4b6c-97ff-466be272bb66",
   "metadata": {
    "tags": []
   },
   "outputs": [
    {
     "name": "stdout",
     "output_type": "stream",
     "text": [
      "Starting Spark application\n"
     ]
    },
    {
     "data": {
      "text/html": [
       "<table>\n",
       "<tr><th>ID</th><th>YARN Application ID</th><th>Kind</th><th>State</th><th>Spark UI</th><th>Driver log</th><th>User</th><th>Current session?</th></tr><tr><td>2206</td><td>application_1732639283265_2166</td><td>pyspark</td><td>idle</td><td><a target=\"_blank\" href=\"http://ip-192-168-1-36.eu-central-1.compute.internal:20888/proxy/application_1732639283265_2166/\">Link</a></td><td><a target=\"_blank\" href=\"http://ip-192-168-1-91.eu-central-1.compute.internal:8042/node/containerlogs/container_1732639283265_2166_01_000001/livy\">Link</a></td><td>None</td><td>✔</td></tr></table>"
      ],
      "text/plain": [
       "<IPython.core.display.HTML object>"
      ]
     },
     "metadata": {},
     "output_type": "display_data"
    },
    {
     "data": {
      "application/vnd.jupyter.widget-view+json": {
       "model_id": "",
       "version_major": 2,
       "version_minor": 0
      },
      "text/plain": [
       "FloatProgress(value=0.0, bar_style='info', description='Progress:', layout=Layout(height='25px', width='50%'),…"
      ]
     },
     "metadata": {},
     "output_type": "display_data"
    },
    {
     "name": "stdout",
     "output_type": "stream",
     "text": [
      "SparkSession available as 'spark'.\n"
     ]
    },
    {
     "data": {
      "application/vnd.jupyter.widget-view+json": {
       "model_id": "",
       "version_major": 2,
       "version_minor": 0
      },
      "text/plain": [
       "FloatProgress(value=0.0, bar_style='info', description='Progress:', layout=Layout(height='25px', width='50%'),…"
      ]
     },
     "metadata": {},
     "output_type": "display_data"
    }
   ],
   "source": [
    "# To log our application's execution time:\n",
    "import time\n",
    "\n",
    "# decorator to calculate duration\n",
    "# taken by any function.\n",
    "def measure_time(func):\n",
    "    # added arguments inside the inner1,\n",
    "    # if function takes any arguments,\n",
    "    # can be added like this.\n",
    "    def inner1(*args, **kwargs):\n",
    "\n",
    "        # Start timing\n",
    "        start_time = time.time()\n",
    "\n",
    "        func(*args, **kwargs)\n",
    "\n",
    "        # Stop timing and print out the execution duration\n",
    "        end_time = time.time()\n",
    "        elapsed_time = end_time - start_time\n",
    "        print(f\"Time taken by {func.__name__}: {elapsed_time:.2f} seconds\")\n",
    "\n",
    "    return inner1"
   ]
  },
  {
   "cell_type": "markdown",
   "id": "bf5b41a1-3cbc-4173-87ea-e626bd2789d1",
   "metadata": {
    "tags": []
   },
   "source": [
    "# Query 1"
   ]
  },
  {
   "cell_type": "code",
   "execution_count": 1,
   "id": "7d59a115-6126-46fe-af39-6a95adb15a3e",
   "metadata": {},
   "outputs": [
    {
     "name": "stdout",
     "output_type": "stream",
     "text": [
      "Starting Spark application\n"
     ]
    },
    {
     "data": {
      "text/html": [
       "<table>\n",
       "<tr><th>ID</th><th>YARN Application ID</th><th>Kind</th><th>State</th><th>Spark UI</th><th>Driver log</th><th>User</th><th>Current session?</th></tr><tr><td>1695</td><td>application_1732639283265_1656</td><td>pyspark</td><td>idle</td><td><a target=\"_blank\" href=\"http://ip-192-168-1-36.eu-central-1.compute.internal:20888/proxy/application_1732639283265_1656/\">Link</a></td><td><a target=\"_blank\" href=\"http://ip-192-168-1-119.eu-central-1.compute.internal:8042/node/containerlogs/container_1732639283265_1656_01_000001/livy\">Link</a></td><td>None</td><td>✔</td></tr></table>"
      ],
      "text/plain": [
       "<IPython.core.display.HTML object>"
      ]
     },
     "metadata": {},
     "output_type": "display_data"
    },
    {
     "data": {
      "application/vnd.jupyter.widget-view+json": {
       "model_id": "",
       "version_major": 2,
       "version_minor": 0
      },
      "text/plain": [
       "FloatProgress(value=0.0, bar_style='info', description='Progress:', layout=Layout(height='25px', width='50%'),…"
      ]
     },
     "metadata": {},
     "output_type": "display_data"
    },
    {
     "name": "stdout",
     "output_type": "stream",
     "text": [
      "SparkSession available as 'spark'.\n"
     ]
    },
    {
     "data": {
      "application/vnd.jupyter.widget-view+json": {
       "model_id": "",
       "version_major": 2,
       "version_minor": 0
      },
      "text/plain": [
       "FloatProgress(value=0.0, bar_style='info', description='Progress:', layout=Layout(height='25px', width='50%'),…"
      ]
     },
     "metadata": {},
     "output_type": "display_data"
    }
   ],
   "source": [
    "crime_data_19 = spark.read.csv(\"s3://initial-notebook-data-bucket-dblab-905418150721/CrimeData/Crime_Data_from_2010_to_2019_20241101.csv\", header=True, inferSchema=True)\n",
    "crime_data_20 = spark.read.csv(\"s3://initial-notebook-data-bucket-dblab-905418150721/CrimeData/Crime_Data_from_2020_to_Present_20241101.csv\", header=True, inferSchema=True)\n",
    "crime_data = crime_data_19.union(crime_data_20)"
   ]
  },
  {
   "cell_type": "code",
   "execution_count": 87,
   "id": "b74616b8",
   "metadata": {},
   "outputs": [
    {
     "data": {
      "application/vnd.jupyter.widget-view+json": {
       "model_id": "",
       "version_major": 2,
       "version_minor": 0
      },
      "text/plain": [
       "FloatProgress(value=0.0, bar_style='info', description='Progress:', layout=Layout(height='25px', width='50%'),…"
      ]
     },
     "metadata": {},
     "output_type": "display_data"
    }
   ],
   "source": [
    "from pyspark.sql import SparkSession\n",
    "\n",
    "spark = SparkSession.builder \\\n",
    "    .appName(\"Query 1\") \\\n",
    "    .config(\"spark.executor.instances\", \"4\") \\\n",
    "    .config(\"spark.executor.memory\", \"2g\") \\\n",
    "    .config(\"spark.executor.cores\", \"2\") \\\n",
    "    .getOrCreate()"
   ]
  },
  {
   "cell_type": "code",
   "execution_count": 90,
   "id": "567e5a1c",
   "metadata": {},
   "outputs": [
    {
     "data": {
      "application/vnd.jupyter.widget-view+json": {
       "model_id": "",
       "version_major": 2,
       "version_minor": 0
      },
      "text/plain": [
       "FloatProgress(value=0.0, bar_style='info', description='Progress:', layout=Layout(height='25px', width='50%'),…"
      ]
     },
     "metadata": {},
     "output_type": "display_data"
    },
    {
     "name": "stdout",
     "output_type": "stream",
     "text": [
      "+------------+------+\n",
      "|   Age_Group| count|\n",
      "+------------+------+\n",
      "|      Adults|121093|\n",
      "|Young Adults| 33605|\n",
      "|    Children| 15928|\n",
      "|     Seniors|  5985|\n",
      "+------------+------+\n",
      "\n",
      "DataFrame API execution time:  12.480517148971558"
     ]
    }
   ],
   "source": [
    "## DataFrame APIs ##\n",
    "\n",
    "from pyspark.sql.functions import col, when\n",
    "\n",
    "filtered_data = crime_data.filter(col(\"Crm Cd Desc\").like(\"%AGGRAVATED ASSAULT%\"))\n",
    "\n",
    "start_time_df = time.time()\n",
    "updated_df = filtered_data.withColumn(\n",
    "    \"Age_Group\",\n",
    "    when(col(\"Vict Age\") < 18, \"Children\")\n",
    "    .when((col(\"Vict Age\") >= 18) & (col(\"Vict Age\") < 25), \"Young Adults\")\n",
    "    .when((col(\"Vict Age\") >= 25) & (col(\"Vict Age\") < 65), \"Adults\")\n",
    "    .otherwise(\"Seniors\")\n",
    ")\n",
    "\n",
    "age_group_counts = updated_df.groupBy(\"Age_Group\").count()\n",
    "age_group_counts = age_group_counts.orderBy(col(\"count\").desc())\n",
    "age_group_counts.show()\n",
    "end_time_df = time.time()\n",
    "print(\"DataFrame API execution time: \", end_time_df - start_time_df)"
   ]
  },
  {
   "cell_type": "code",
   "execution_count": 91,
   "id": "474a04ee",
   "metadata": {},
   "outputs": [
    {
     "data": {
      "application/vnd.jupyter.widget-view+json": {
       "model_id": "",
       "version_major": 2,
       "version_minor": 0
      },
      "text/plain": [
       "FloatProgress(value=0.0, bar_style='info', description='Progress:', layout=Layout(height='25px', width='50%'),…"
      ]
     },
     "metadata": {},
     "output_type": "display_data"
    },
    {
     "name": "stdout",
     "output_type": "stream",
     "text": [
      "Adults -> 121093\n",
      "Young Adults -> 33605\n",
      "Children -> 15928\n",
      "Seniors -> 5985\n",
      "RDD API execution time:  7.831646680831909"
     ]
    }
   ],
   "source": [
    "crime_rdd = filtered_data.rdd\n",
    "\n",
    "start_time_rdd = time.time()\n",
    "\n",
    "def get_age_group(age):\n",
    "    if age < 18:\n",
    "        return \"Children\"\n",
    "    elif 18 <= age < 25:\n",
    "        return \"Young Adults\"\n",
    "    elif 25 <= age < 65:\n",
    "        return \"Adults\"\n",
    "    else:\n",
    "        return \"Seniors\"\n",
    "\n",
    "age_group_rdd = crime_rdd.map(lambda x: (get_age_group(x['Vict Age']), 1))\n",
    "age_group_count = age_group_rdd.reduceByKey(lambda a, b: a + b)\n",
    "\n",
    "sorted_age_group_count = age_group_count.sortBy(lambda x: x[1], ascending=False)\n",
    "for age_group, count in sorted_age_group_count.collect():\n",
    "    print(age_group, \"->\", count)\n",
    "end_time_rdd = time.time()\n",
    "print(\"RDD API execution time: \", end_time_rdd - start_time_rdd)"
   ]
  },
  {
   "cell_type": "markdown",
   "id": "3190026a-3ca5-45e6-a21c-96da98373e39",
   "metadata": {
    "tags": []
   },
   "source": [
    "# Query 2"
   ]
  },
  {
   "cell_type": "code",
   "execution_count": 2,
   "id": "c830f3ad-77c5-4c2d-bc19-07233ce77b29",
   "metadata": {
    "tags": []
   },
   "outputs": [
    {
     "data": {
      "application/vnd.jupyter.widget-view+json": {
       "model_id": "",
       "version_major": 2,
       "version_minor": 0
      },
      "text/plain": [
       "FloatProgress(value=0.0, bar_style='info', description='Progress:', layout=Layout(height='25px', width='50%'),…"
      ]
     },
     "metadata": {},
     "output_type": "display_data"
    }
   ],
   "source": [
    "from pyspark.sql import SparkSession\n",
    "from pyspark.sql.types import StructField, StructType, IntegerType, FloatType, StringType, BooleanType\n",
    "from pyspark.sql.functions import col, udf, sum, max, min, avg, count, mean, when, monotonically_increasing_id, dense_rank, window\n",
    "from pyspark.sql.window import Window\n",
    "\n",
    "spark = SparkSession \\\n",
    "    .builder \\\n",
    "    .appName(\"Query 2: 3 Police Stations for each year with biggest rate of closed cases\") \\\n",
    "    .getOrCreate() \n"
   ]
  },
  {
   "cell_type": "code",
   "execution_count": 3,
   "id": "1a9bcf68-b586-42fe-bb5f-4b50a4355921",
   "metadata": {
    "tags": []
   },
   "outputs": [
    {
     "data": {
      "application/vnd.jupyter.widget-view+json": {
       "model_id": "",
       "version_major": 2,
       "version_minor": 0
      },
      "text/plain": [
       "FloatProgress(value=0.0, bar_style='info', description='Progress:', layout=Layout(height='25px', width='50%'),…"
      ]
     },
     "metadata": {},
     "output_type": "display_data"
    },
    {
     "name": "stdout",
     "output_type": "stream",
     "text": [
      "root\n",
      " |-- DR_NO: string (nullable = true)\n",
      " |-- Date Rptd: string (nullable = true)\n",
      " |-- DATE OCC: string (nullable = true)\n",
      " |-- TIME OCC: string (nullable = true)\n",
      " |-- AREA : string (nullable = true)\n",
      " |-- AREA NAME: string (nullable = true)\n",
      " |-- Rpt Dist No: string (nullable = true)\n",
      " |-- Part 1-2: string (nullable = true)\n",
      " |-- Crm Cd: string (nullable = true)\n",
      " |-- Crm Cd Desc: string (nullable = true)\n",
      " |-- Mocodes: string (nullable = true)\n",
      " |-- Vict Age: string (nullable = true)\n",
      " |-- Vict Sex: string (nullable = true)\n",
      " |-- Vict Descent: string (nullable = true)\n",
      " |-- Premis Cd: string (nullable = true)\n",
      " |-- Premis Desc: string (nullable = true)\n",
      " |-- Weapon Used Cd: string (nullable = true)\n",
      " |-- Weapon Desc: string (nullable = true)\n",
      " |-- Status: string (nullable = true)\n",
      " |-- Status Desc: string (nullable = true)\n",
      " |-- Crm Cd 1: string (nullable = true)\n",
      " |-- Crm Cd 2: string (nullable = true)\n",
      " |-- Crm Cd 3: string (nullable = true)\n",
      " |-- Crm Cd 4: string (nullable = true)\n",
      " |-- LOCATION: string (nullable = true)\n",
      " |-- Cross Street: string (nullable = true)\n",
      " |-- LAT: string (nullable = true)\n",
      " |-- LON: string (nullable = true)\n",
      "\n",
      "Number of Rows (Crime DataFrame)\n",
      "3113337"
     ]
    }
   ],
   "source": [
    "crimes_2010_19_df = spark.read.csv(\"s3://initial-notebook-data-bucket-dblab-905418150721/CrimeData/Crime_Data_from_2010_to_2019_20241101.csv\", header=True)\n",
    "crimes_2020_24_df = spark.read.csv(\"s3://initial-notebook-data-bucket-dblab-905418150721/CrimeData/Crime_Data_from_2020_to_Present_20241101.csv\", header=True)\n",
    "crimes_df = crimes_2010_19_df.union(crimes_2020_24_df)\n",
    "crimes_df.printSchema()\n",
    "print(\"Number of Rows (Crime DataFrame)\")\n",
    "crimes_df.count()\n",
    "# print('Crime data')\n",
    "# crimes_df.show(3)"
   ]
  },
  {
   "cell_type": "code",
   "execution_count": 4,
   "id": "e1954855-4159-43ad-8678-9d707e91907e",
   "metadata": {
    "tags": []
   },
   "outputs": [
    {
     "data": {
      "application/vnd.jupyter.widget-view+json": {
       "model_id": "",
       "version_major": 2,
       "version_minor": 0
      },
      "text/plain": [
       "FloatProgress(value=0.0, bar_style='info', description='Progress:', layout=Layout(height='25px', width='50%'),…"
      ]
     },
     "metadata": {},
     "output_type": "display_data"
    },
    {
     "name": "stdout",
     "output_type": "stream",
     "text": [
      "<function percentage at 0x7fb059b661f0>"
     ]
    }
   ],
   "source": [
    "# UDF - User Defined Functions definitions\n",
    "\n",
    "def extract_year(date_occ: str) -> str:\n",
    "    '''returns year from DATE OCC column'''\n",
    "    return date_occ.split(\"/\")[2].split(\" \")[0]\n",
    "\n",
    "def is_closed_case(case: str) -> int:\n",
    "    '''returns 1 if an incident is a closed case in police department based on Status Desc else returns 0'''\n",
    "    return 0 if (case=='Invest Cont' or case=='UNK') else 1\n",
    "\n",
    "def percentage(closed: int, total: int) -> float:\n",
    "    return (closed/total)*100\n",
    "\n",
    "# print(is_closed_case('c'))\n",
    "# print(extract_year(\"01/01/2010 12:00:...\"))\n",
    "extract_year_udf = udf(extract_year, StringType())\n",
    "is_closed_case_udf = udf(is_closed_case, IntegerType())\n",
    "percentage_udf = udf(percentage, FloatType())\n",
    "\n",
    "# register functions for SQL\n",
    "spark.udf.register(\"extract_year\", extract_year)\n",
    "spark.udf.register(\"is_closed_case\", is_closed_case)\n",
    "spark.udf.register(\"percentage\", percentage)"
   ]
  },
  {
   "cell_type": "code",
   "execution_count": 5,
   "id": "47c1ecd5-c501-455e-9a2f-02e19d16e057",
   "metadata": {
    "tags": []
   },
   "outputs": [
    {
     "data": {
      "application/vnd.jupyter.widget-view+json": {
       "model_id": "",
       "version_major": 2,
       "version_minor": 0
      },
      "text/plain": [
       "FloatProgress(value=0.0, bar_style='info', description='Progress:', layout=Layout(height='25px', width='50%'),…"
      ]
     },
     "metadata": {},
     "output_type": "display_data"
    }
   ],
   "source": [
    "# s3://groups-bucket-dblab-905418150721/group46/query2/\n",
    "# s3://groups-bucket-dblab-905418150721/group46/query2-single-parquet/\n",
    "# Write results to S3 -> \n",
    "#    1. create the output directory in your S3 bucket\n",
    "#    2. change your group number below \n",
    "#    3. and uncomment\n",
    "group_number = \"46\"\n",
    "s3_path = \"s3://groups-bucket-dblab-905418150721/group\"+group_number+\"/query2-single-parquet/\"\n",
    "# Repartition the DataFrame to a single partition so that it will possible be written in one parquet file\n",
    "single_partition_df = crimes_df.repartition(1) \n",
    "single_partition_df.write.mode(\"overwrite\").parquet(s3_path)\n",
    "crimes_df_from_parquet = spark.read.parquet(s3_path)\n",
    "# crimes_df_from_parquet.show()"
   ]
  },
  {
   "cell_type": "markdown",
   "id": "242faca5-3d5b-48ee-981e-f3bc2024d10a",
   "metadata": {
    "tags": []
   },
   "source": [
    "## Query 2 - DataFrame API"
   ]
  },
  {
   "cell_type": "code",
   "execution_count": 6,
   "id": "fe5bf81b-a2f8-402f-b98c-53d3e103f6b1",
   "metadata": {
    "tags": []
   },
   "outputs": [
    {
     "data": {
      "application/vnd.jupyter.widget-view+json": {
       "model_id": "",
       "version_major": 2,
       "version_minor": 0
      },
      "text/plain": [
       "FloatProgress(value=0.0, bar_style='info', description='Progress:', layout=Layout(height='25px', width='50%'),…"
      ]
     },
     "metadata": {},
     "output_type": "display_data"
    }
   ],
   "source": [
    "@measure_time\n",
    "def query2_dataframe(df, debug = False):\n",
    "    '''Returns the DF that is result of the query 2 using DataFrame API'''\n",
    "\n",
    "    modified_df = df.select(\"DR_NO\", \"DATE OCC\",\"AREA NAME\", \"Status Desc\") \\\n",
    "        .withColumn(\"year\", extract_year_udf(col(\"DATE OCC\"))) \\\n",
    "        .withColumn(\"precinct\", col(\"AREA NAME\")) \\\n",
    "        .withColumn(\"is_closed_case\", is_closed_case_udf(col(\"Status Desc\")))\n",
    "    if debug: modified_df.show(3)\n",
    "\n",
    "    grouped_df = modified_df.groupBy(\"year\", \"precinct\") \\\n",
    "        .agg( \\\n",
    "             count(\"*\").alias(\"total_cases\"), \\\n",
    "             sum(\"is_closed_case\").alias(\"closed_cases\"), \\\n",
    "             percentage_udf(col(\"closed_cases\"), col(\"total_cases\")).alias(\"closed_case_rate\") \\\n",
    "            )\n",
    "    if debug: grouped_df.show(3)\n",
    "\n",
    "    # Define a window and make partitions by year in order to assign specific rank values later to the rows\n",
    "    windowSpec = Window.partitionBy(\"year\").orderBy(col(\"closed_case_rate\").desc())\n",
    "    ranked_df = grouped_df.withColumn(\"#\", dense_rank().over(windowSpec))\n",
    "    if debug: ranked_df.show(3)\n",
    "\n",
    "    # Project specific columns, Select Top 3 for each year and sort in ascending order for year and rank (#)\n",
    "    result = ranked_df.select(\"year\", \"precinct\",\"closed_case_rate\", \"#\") \\\n",
    "        .filter(col(\"#\") <= 3) \\\n",
    "        .orderBy([\"year\", \"#\"], ascending=[True,True])\n",
    "\n",
    "    result.show(50)\n",
    "\n"
   ]
  },
  {
   "cell_type": "markdown",
   "id": "53cc493a-3357-4ecc-bf86-71bcd816ea63",
   "metadata": {},
   "source": [
    "### Comparison of query execution time with input from CSV or Parquet"
   ]
  },
  {
   "cell_type": "code",
   "execution_count": 7,
   "id": "7db4fc25-c385-42f7-9c4d-1f02f77be346",
   "metadata": {
    "tags": []
   },
   "outputs": [
    {
     "data": {
      "application/vnd.jupyter.widget-view+json": {
       "model_id": "",
       "version_major": 2,
       "version_minor": 0
      },
      "text/plain": [
       "FloatProgress(value=0.0, bar_style='info', description='Progress:', layout=Layout(height='25px', width='50%'),…"
      ]
     },
     "metadata": {},
     "output_type": "display_data"
    }
   ],
   "source": [
    "@measure_time\n",
    "def query2_csv(execute_query = True):\n",
    "    crimes_2010_19_df = spark.read.csv(\"s3://initial-notebook-data-bucket-dblab-905418150721/CrimeData/Crime_Data_from_2010_to_2019_20241101.csv\", header=True)\n",
    "    crimes_2020_24_df = spark.read.csv(\"s3://initial-notebook-data-bucket-dblab-905418150721/CrimeData/Crime_Data_from_2020_to_Present_20241101.csv\", header=True)\n",
    "    crimes_df = crimes_2010_19_df.union(crimes_2020_24_df)\n",
    "    # crimes_df.show(3)\n",
    "    if execute_query: query2_dataframe(crimes_df)\n",
    "\n",
    "@measure_time\n",
    "def query2_parquet(execute_query = True):\n",
    "    crimes_df_from_parquet = spark.read.parquet(s3_path)\n",
    "    # crimes_df_from_parquet.show(3)\n",
    "    if execute_query: query2_dataframe(crimes_df_from_parquet)\n"
   ]
  },
  {
   "cell_type": "code",
   "execution_count": 8,
   "id": "7b06c6ae-d734-4a37-bd31-7b3713549de5",
   "metadata": {
    "tags": []
   },
   "outputs": [
    {
     "data": {
      "application/vnd.jupyter.widget-view+json": {
       "model_id": "",
       "version_major": 2,
       "version_minor": 0
      },
      "text/plain": [
       "FloatProgress(value=0.0, bar_style='info', description='Progress:', layout=Layout(height='25px', width='50%'),…"
      ]
     },
     "metadata": {},
     "output_type": "display_data"
    },
    {
     "name": "stdout",
     "output_type": "stream",
     "text": [
      "+----+-----------+----------------+---+\n",
      "|year|   precinct|closed_case_rate|  #|\n",
      "+----+-----------+----------------+---+\n",
      "|2010|    Rampart|       32.847134|  1|\n",
      "|2010|    Olympic|        31.51529|  2|\n",
      "|2010|     Harbor|       29.360283|  3|\n",
      "|2011|    Olympic|       35.040062|  1|\n",
      "|2011|    Rampart|        32.49645|  2|\n",
      "|2011|     Harbor|       28.513363|  3|\n",
      "|2012|    Olympic|       34.297085|  1|\n",
      "|2012|    Rampart|       32.460003|  2|\n",
      "|2012|     Harbor|       29.509586|  3|\n",
      "|2013|    Olympic|        33.58218|  1|\n",
      "|2013|    Rampart|       32.106037|  2|\n",
      "|2013|     Harbor|       29.723639|  3|\n",
      "|2014|   Van Nuys|       32.021523|  1|\n",
      "|2014|West Valley|       31.497547|  2|\n",
      "|2014|    Mission|        31.22494|  3|\n",
      "|2015|   Van Nuys|        32.26514|  1|\n",
      "|2015|    Mission|       30.463762|  2|\n",
      "|2015|   Foothill|       30.353003|  3|\n",
      "|2016|   Van Nuys|        32.19452|  1|\n",
      "|2016|West Valley|       31.401464|  2|\n",
      "|2016|   Foothill|       29.908648|  3|\n",
      "|2017|   Van Nuys|       32.055428|  1|\n",
      "|2017|    Mission|       31.055387|  2|\n",
      "|2017|   Foothill|         30.4697|  3|\n",
      "|2018|   Foothill|       30.731346|  1|\n",
      "|2018|    Mission|       30.727024|  2|\n",
      "|2018|   Van Nuys|       28.905207|  3|\n",
      "|2019|    Mission|       30.727411|  1|\n",
      "|2019|West Valley|       30.579742|  2|\n",
      "|2019|N Hollywood|       29.238087|  3|\n",
      "|2020|West Valley|       30.771132|  1|\n",
      "|2020|    Mission|       30.149746|  2|\n",
      "|2020|     Harbor|       29.693487|  3|\n",
      "|2021|    Mission|       30.318115|  1|\n",
      "|2021|West Valley|       28.971087|  2|\n",
      "|2021|   Foothill|       27.993757|  3|\n",
      "|2022|West Valley|       26.536367|  1|\n",
      "|2022|     Harbor|       26.337538|  2|\n",
      "|2022|    Topanga|       26.234013|  3|\n",
      "|2023|   Foothill|        26.76076|  1|\n",
      "|2023|    Topanga|       26.538023|  2|\n",
      "|2023|    Mission|       25.662731|  3|\n",
      "|2024|N Hollywood|        19.59853|  1|\n",
      "|2024|   Foothill|       18.620882|  2|\n",
      "|2024|77th Street|       17.586319|  3|\n",
      "+----+-----------+----------------+---+\n",
      "\n",
      "Time taken by query2_dataframe: 7.14 seconds\n",
      "Time taken by query2_csv: 7.82 seconds\n",
      "+----+-----------+----------------+---+\n",
      "|year|   precinct|closed_case_rate|  #|\n",
      "+----+-----------+----------------+---+\n",
      "|2010|    Rampart|       32.847134|  1|\n",
      "|2010|    Olympic|        31.51529|  2|\n",
      "|2010|     Harbor|       29.360283|  3|\n",
      "|2011|    Olympic|       35.040062|  1|\n",
      "|2011|    Rampart|        32.49645|  2|\n",
      "|2011|     Harbor|       28.513363|  3|\n",
      "|2012|    Olympic|       34.297085|  1|\n",
      "|2012|    Rampart|       32.460003|  2|\n",
      "|2012|     Harbor|       29.509586|  3|\n",
      "|2013|    Olympic|        33.58218|  1|\n",
      "|2013|    Rampart|       32.106037|  2|\n",
      "|2013|     Harbor|       29.723639|  3|\n",
      "|2014|   Van Nuys|       32.021523|  1|\n",
      "|2014|West Valley|       31.497547|  2|\n",
      "|2014|    Mission|        31.22494|  3|\n",
      "|2015|   Van Nuys|        32.26514|  1|\n",
      "|2015|    Mission|       30.463762|  2|\n",
      "|2015|   Foothill|       30.353003|  3|\n",
      "|2016|   Van Nuys|        32.19452|  1|\n",
      "|2016|West Valley|       31.401464|  2|\n",
      "|2016|   Foothill|       29.908648|  3|\n",
      "|2017|   Van Nuys|       32.055428|  1|\n",
      "|2017|    Mission|       31.055387|  2|\n",
      "|2017|   Foothill|         30.4697|  3|\n",
      "|2018|   Foothill|       30.731346|  1|\n",
      "|2018|    Mission|       30.727024|  2|\n",
      "|2018|   Van Nuys|       28.905207|  3|\n",
      "|2019|    Mission|       30.727411|  1|\n",
      "|2019|West Valley|       30.579742|  2|\n",
      "|2019|N Hollywood|       29.238087|  3|\n",
      "|2020|West Valley|       30.771132|  1|\n",
      "|2020|    Mission|       30.149746|  2|\n",
      "|2020|     Harbor|       29.693487|  3|\n",
      "|2021|    Mission|       30.318115|  1|\n",
      "|2021|West Valley|       28.971087|  2|\n",
      "|2021|   Foothill|       27.993757|  3|\n",
      "|2022|West Valley|       26.536367|  1|\n",
      "|2022|     Harbor|       26.337538|  2|\n",
      "|2022|    Topanga|       26.234013|  3|\n",
      "|2023|   Foothill|        26.76076|  1|\n",
      "|2023|    Topanga|       26.538023|  2|\n",
      "|2023|    Mission|       25.662731|  3|\n",
      "|2024|N Hollywood|        19.59853|  1|\n",
      "|2024|   Foothill|       18.620882|  2|\n",
      "|2024|77th Street|       17.586319|  3|\n",
      "+----+-----------+----------------+---+\n",
      "\n",
      "Time taken by query2_dataframe: 12.34 seconds\n",
      "Time taken by query2_parquet: 13.02 seconds"
     ]
    }
   ],
   "source": [
    "# Call the function that loads DF from CSV and then executes the query \n",
    "query2_csv()\n",
    "# Call the function that loads DF from parquet and then executes the query \n",
    "query2_parquet()"
   ]
  },
  {
   "cell_type": "markdown",
   "id": "02c25151-a991-4f2c-977f-6d65f4ebbbd1",
   "metadata": {},
   "source": [
    "## Query 2 - SQL API"
   ]
  },
  {
   "cell_type": "code",
   "execution_count": 9,
   "id": "2a041b4c-20c4-49ac-b481-8169a3cfeb57",
   "metadata": {
    "tags": []
   },
   "outputs": [
    {
     "data": {
      "application/vnd.jupyter.widget-view+json": {
       "model_id": "",
       "version_major": 2,
       "version_minor": 0
      },
      "text/plain": [
       "FloatProgress(value=0.0, bar_style='info', description='Progress:', layout=Layout(height='25px', width='50%'),…"
      ]
     },
     "metadata": {},
     "output_type": "display_data"
    }
   ],
   "source": [
    "@measure_time\n",
    "def query2_sql(df, debug = False):\n",
    "    '''Returns the DF that is result of the query 2 using SQL API'''\n",
    "\n",
    "    df.createOrReplaceTempView(\"crimes\")\n",
    "\n",
    "    query = \"\"\"\n",
    "        SELECT `DR_NO`, `DATE OCC`, `AREA NAME`, `Status Desc`, extract_year(`DATE OCC`) as year, `AREA NAME` as precinct, is_closed_case(`Status Desc`) as is_closed_case \n",
    "        FROM crimes\n",
    "    \"\"\"\n",
    "\n",
    "    modified_crimes = spark.sql(query)\n",
    "    if debug: modified_crimes.show(3)\n",
    "    modified_crimes.createOrReplaceTempView(\"modified_crimes\")\n",
    "\n",
    "    query = \"\"\"\n",
    "        SELECT year, precinct, count(*) as total_cases, CAST(sum(is_closed_case) AS INT) as closed_cases, CAST(percentage(`closed_cases`,`total_cases`) AS DECIMAL(10,6)) as closed_case_rate\n",
    "        FROM modified_crimes\n",
    "        GROUP BY year, precinct\n",
    "    \"\"\"\n",
    "\n",
    "    grouped_crimes = spark.sql(query)\n",
    "    if debug: grouped_crimes.show(3)\n",
    "    grouped_crimes.createOrReplaceTempView(\"grouped_crimes\")\n",
    "\n",
    "    query = \"\"\"\n",
    "        SELECT year, precinct,  total_cases, closed_cases, closed_case_rate, DENSE_RANK() OVER(PARTITION BY year ORDER BY closed_case_rate DESC) as `#`\n",
    "        FROM grouped_crimes\n",
    "        ORDER BY year, closed_case_rate DESC\n",
    "    \"\"\"\n",
    "\n",
    "    ranked_crimes = spark.sql(query)\n",
    "    if debug: ranked_crimes.show(3)\n",
    "    ranked_crimes.createOrReplaceTempView(\"ranked_crimes\")\n",
    "\n",
    "    query = \"\"\"\n",
    "        SELECT year, precinct, closed_case_rate, `#`\n",
    "        FROM ranked_crimes\n",
    "        WHERE `#` <= 3\n",
    "        ORDER BY year, `#`\n",
    "    \"\"\"\n",
    "\n",
    "    result = spark.sql(query)\n",
    "    result.show(50)\n",
    "    result.createOrReplaceTempView(\"result\")\n"
   ]
  },
  {
   "cell_type": "markdown",
   "id": "a88ee822-b8a8-4da2-a8ae-2d61b2c91ed1",
   "metadata": {},
   "source": [
    "### Comparison of query execution time using DataFrame or SQL API"
   ]
  },
  {
   "cell_type": "code",
   "execution_count": 10,
   "id": "834d7b90-bbf9-4641-9be5-001700209a6d",
   "metadata": {
    "tags": []
   },
   "outputs": [
    {
     "data": {
      "application/vnd.jupyter.widget-view+json": {
       "model_id": "",
       "version_major": 2,
       "version_minor": 0
      },
      "text/plain": [
       "FloatProgress(value=0.0, bar_style='info', description='Progress:', layout=Layout(height='25px', width='50%'),…"
      ]
     },
     "metadata": {},
     "output_type": "display_data"
    },
    {
     "name": "stdout",
     "output_type": "stream",
     "text": [
      "+----+-----------+----------------+---+\n",
      "|year|   precinct|closed_case_rate|  #|\n",
      "+----+-----------+----------------+---+\n",
      "|2010|    Rampart|       32.847134|  1|\n",
      "|2010|    Olympic|        31.51529|  2|\n",
      "|2010|     Harbor|       29.360283|  3|\n",
      "|2011|    Olympic|       35.040062|  1|\n",
      "|2011|    Rampart|        32.49645|  2|\n",
      "|2011|     Harbor|       28.513363|  3|\n",
      "|2012|    Olympic|       34.297085|  1|\n",
      "|2012|    Rampart|       32.460003|  2|\n",
      "|2012|     Harbor|       29.509586|  3|\n",
      "|2013|    Olympic|        33.58218|  1|\n",
      "|2013|    Rampart|       32.106037|  2|\n",
      "|2013|     Harbor|       29.723639|  3|\n",
      "|2014|   Van Nuys|       32.021523|  1|\n",
      "|2014|West Valley|       31.497547|  2|\n",
      "|2014|    Mission|        31.22494|  3|\n",
      "|2015|   Van Nuys|        32.26514|  1|\n",
      "|2015|    Mission|       30.463762|  2|\n",
      "|2015|   Foothill|       30.353003|  3|\n",
      "|2016|   Van Nuys|        32.19452|  1|\n",
      "|2016|West Valley|       31.401464|  2|\n",
      "|2016|   Foothill|       29.908648|  3|\n",
      "|2017|   Van Nuys|       32.055428|  1|\n",
      "|2017|    Mission|       31.055387|  2|\n",
      "|2017|   Foothill|         30.4697|  3|\n",
      "|2018|   Foothill|       30.731346|  1|\n",
      "|2018|    Mission|       30.727024|  2|\n",
      "|2018|   Van Nuys|       28.905207|  3|\n",
      "|2019|    Mission|       30.727411|  1|\n",
      "|2019|West Valley|       30.579742|  2|\n",
      "|2019|N Hollywood|       29.238087|  3|\n",
      "|2020|West Valley|       30.771132|  1|\n",
      "|2020|    Mission|       30.149746|  2|\n",
      "|2020|     Harbor|       29.693487|  3|\n",
      "|2021|    Mission|       30.318115|  1|\n",
      "|2021|West Valley|       28.971087|  2|\n",
      "|2021|   Foothill|       27.993757|  3|\n",
      "|2022|West Valley|       26.536367|  1|\n",
      "|2022|     Harbor|       26.337538|  2|\n",
      "|2022|    Topanga|       26.234013|  3|\n",
      "|2023|   Foothill|        26.76076|  1|\n",
      "|2023|    Topanga|       26.538023|  2|\n",
      "|2023|    Mission|       25.662731|  3|\n",
      "|2024|N Hollywood|        19.59853|  1|\n",
      "|2024|   Foothill|       18.620882|  2|\n",
      "|2024|77th Street|       17.586319|  3|\n",
      "+----+-----------+----------------+---+\n",
      "\n",
      "Time taken by query2_dataframe: 9.16 seconds"
     ]
    }
   ],
   "source": [
    "# Execute the Query 2 with the DF API\n",
    "query2_dataframe(crimes_df)"
   ]
  },
  {
   "cell_type": "code",
   "execution_count": 11,
   "id": "aa71cdd6-0c49-41e3-9153-27bf9bb77b80",
   "metadata": {
    "tags": []
   },
   "outputs": [
    {
     "data": {
      "application/vnd.jupyter.widget-view+json": {
       "model_id": "",
       "version_major": 2,
       "version_minor": 0
      },
      "text/plain": [
       "FloatProgress(value=0.0, bar_style='info', description='Progress:', layout=Layout(height='25px', width='50%'),…"
      ]
     },
     "metadata": {},
     "output_type": "display_data"
    },
    {
     "name": "stdout",
     "output_type": "stream",
     "text": [
      "+----+-----------+----------------+---+\n",
      "|year|   precinct|closed_case_rate|  #|\n",
      "+----+-----------+----------------+---+\n",
      "|2010|    Rampart|       32.847134|  1|\n",
      "|2010|    Olympic|       31.515290|  2|\n",
      "|2010|     Harbor|       29.360283|  3|\n",
      "|2011|    Olympic|       35.040060|  1|\n",
      "|2011|    Rampart|       32.496447|  2|\n",
      "|2011|     Harbor|       28.513362|  3|\n",
      "|2012|    Olympic|       34.297085|  1|\n",
      "|2012|    Rampart|       32.460005|  2|\n",
      "|2012|     Harbor|       29.509586|  3|\n",
      "|2013|    Olympic|       33.582179|  1|\n",
      "|2013|    Rampart|       32.106038|  2|\n",
      "|2013|     Harbor|       29.723639|  3|\n",
      "|2014|   Van Nuys|       32.021524|  1|\n",
      "|2014|West Valley|       31.497548|  2|\n",
      "|2014|    Mission|       31.224940|  3|\n",
      "|2015|   Van Nuys|       32.265141|  1|\n",
      "|2015|    Mission|       30.463763|  2|\n",
      "|2015|   Foothill|       30.353002|  3|\n",
      "|2016|   Van Nuys|       32.194518|  1|\n",
      "|2016|West Valley|       31.401464|  2|\n",
      "|2016|   Foothill|       29.908647|  3|\n",
      "|2017|   Van Nuys|       32.055427|  1|\n",
      "|2017|    Mission|       31.055387|  2|\n",
      "|2017|   Foothill|       30.469701|  3|\n",
      "|2018|   Foothill|       30.731347|  1|\n",
      "|2018|    Mission|       30.727023|  2|\n",
      "|2018|   Van Nuys|       28.905207|  3|\n",
      "|2019|    Mission|       30.727411|  1|\n",
      "|2019|West Valley|       30.579743|  2|\n",
      "|2019|N Hollywood|       29.238087|  3|\n",
      "|2020|West Valley|       30.771132|  1|\n",
      "|2020|    Mission|       30.149746|  2|\n",
      "|2020|     Harbor|       29.693487|  3|\n",
      "|2021|    Mission|       30.318116|  1|\n",
      "|2021|West Valley|       28.971087|  2|\n",
      "|2021|   Foothill|       27.993757|  3|\n",
      "|2022|West Valley|       26.536367|  1|\n",
      "|2022|     Harbor|       26.337538|  2|\n",
      "|2022|    Topanga|       26.234013|  3|\n",
      "|2023|   Foothill|       26.760760|  1|\n",
      "|2023|    Topanga|       26.538023|  2|\n",
      "|2023|    Mission|       25.662731|  3|\n",
      "|2024|N Hollywood|       19.598529|  1|\n",
      "|2024|   Foothill|       18.620882|  2|\n",
      "|2024|77th Street|       17.586318|  3|\n",
      "+----+-----------+----------------+---+\n",
      "\n",
      "Time taken by query2_sql: 4.01 seconds"
     ]
    }
   ],
   "source": [
    "# Execute Query 2 with the SQL API\n",
    "query2_sql(crimes_df)"
   ]
  },
  {
   "cell_type": "markdown",
   "id": "080f3daa-04d0-4a4c-81cd-351037941b2d",
   "metadata": {},
   "source": [
    "# Query 3"
   ]
  },
  {
   "cell_type": "code",
   "execution_count": 2,
   "id": "fc54300e",
   "metadata": {},
   "outputs": [
    {
     "data": {
      "application/vnd.jupyter.widget-view+json": {
       "model_id": "",
       "version_major": 2,
       "version_minor": 0
      },
      "text/plain": [
       "FloatProgress(value=0.0, bar_style='info', description='Progress:', layout=Layout(height='25px', width='50%'),…"
      ]
     },
     "metadata": {},
     "output_type": "display_data"
    },
    {
     "name": "stdout",
     "output_type": "stream",
     "text": [
      "root\n",
      " |-- BG10: string (nullable = true)\n",
      " |-- BG10FIP10: string (nullable = true)\n",
      " |-- BG12: string (nullable = true)\n",
      " |-- CB10: string (nullable = true)\n",
      " |-- CEN_FIP13: string (nullable = true)\n",
      " |-- CITY: string (nullable = true)\n",
      " |-- CITYCOM: string (nullable = true)\n",
      " |-- COMM: string (nullable = true)\n",
      " |-- CT10: string (nullable = true)\n",
      " |-- CT12: string (nullable = true)\n",
      " |-- CTCB10: string (nullable = true)\n",
      " |-- HD_2012: long (nullable = true)\n",
      " |-- HD_NAME: string (nullable = true)\n",
      " |-- HOUSING10: long (nullable = true)\n",
      " |-- LA_FIP10: string (nullable = true)\n",
      " |-- OBJECTID: long (nullable = true)\n",
      " |-- POP_2010: long (nullable = true)\n",
      " |-- PUMA10: string (nullable = true)\n",
      " |-- SPA_2012: long (nullable = true)\n",
      " |-- SPA_NAME: string (nullable = true)\n",
      " |-- SUP_DIST: string (nullable = true)\n",
      " |-- SUP_LABEL: string (nullable = true)\n",
      " |-- ShapeSTArea: double (nullable = true)\n",
      " |-- ShapeSTLength: double (nullable = true)\n",
      " |-- ZCTA10: string (nullable = true)\n",
      " |-- geometry: geometry (nullable = true)"
     ]
    }
   ],
   "source": [
    "from sedona.spark import *\n",
    "from pyspark.sql.functions import col\n",
    "from pyspark.sql import SparkSession\n",
    "\n",
    "# Create spark Session\n",
    "spark = SparkSession.builder \\\n",
    "    .appName(\"GeoJSON read\") \\\n",
    "    .getOrCreate()\n",
    "\n",
    "# Create sedona context\n",
    "sedona = SedonaContext.create(spark)\n",
    "# Read the file from s3\n",
    "geojson_path = \"s3://initial-notebook-data-bucket-dblab-905418150721/2010_Census_Blocks.geojson\"\n",
    "blocks_df = sedona.read.format(\"geojson\") \\\n",
    "            .option(\"multiLine\", \"true\").load(geojson_path) \\\n",
    "            .selectExpr(\"explode(features) as features\") \\\n",
    "            .select(\"features.*\")\n",
    "# Formatting magic\n",
    "flattened_df = blocks_df.select( \\\n",
    "                [col(f\"properties.{col_name}\").alias(col_name) for col_name in \\\n",
    "                blocks_df.schema[\"properties\"].dataType.fieldNames()] + [\"geometry\"]) \\\n",
    "            .drop(\"properties\") \\\n",
    "            .drop(\"type\")\n",
    "# Print schema\n",
    "flattened_df.printSchema()"
   ]
  },
  {
   "cell_type": "code",
   "execution_count": 5,
   "id": "d37fdc51",
   "metadata": {},
   "outputs": [
    {
     "data": {
      "application/vnd.jupyter.widget-view+json": {
       "model_id": "",
       "version_major": 2,
       "version_minor": 0
      },
      "text/plain": [
       "FloatProgress(value=0.0, bar_style='info', description='Progress:', layout=Layout(height='25px', width='50%'),…"
      ]
     },
     "metadata": {},
     "output_type": "display_data"
    }
   ],
   "source": [
    "crime_data = spark.read.csv(\"s3://initial-notebook-data-bucket-dblab-905418150721/CrimeData/Crime_Data_from_2010_to_2019_20241101.csv\", header=True, inferSchema=True)\n",
    "census_data = spark.read.json(\"s3://initial-notebook-data-bucket-dblab-905418150721/2010_Census_Blocks.geojson\")\n",
    "income_data = spark.read.csv(\"s3://initial-notebook-data-bucket-dblab-905418150721/LA_income_2015.csv\", header=True, inferSchema=True)"
   ]
  },
  {
   "cell_type": "code",
   "execution_count": 8,
   "id": "27d4322e",
   "metadata": {},
   "outputs": [
    {
     "data": {
      "application/vnd.jupyter.widget-view+json": {
       "model_id": "",
       "version_major": 2,
       "version_minor": 0
      },
      "text/plain": [
       "FloatProgress(value=0.0, bar_style='info', description='Progress:', layout=Layout(height='25px', width='50%'),…"
      ]
     },
     "metadata": {},
     "output_type": "display_data"
    },
    {
     "name": "stdout",
     "output_type": "stream",
     "text": [
      "root\n",
      " |-- BG10: string (nullable = true)\n",
      " |-- BG10FIP10: string (nullable = true)\n",
      " |-- BG12: string (nullable = true)\n",
      " |-- CB10: string (nullable = true)\n",
      " |-- CEN_FIP13: string (nullable = true)\n",
      " |-- CITY: string (nullable = true)\n",
      " |-- CITYCOM: string (nullable = true)\n",
      " |-- COMM: string (nullable = true)\n",
      " |-- CT10: string (nullable = true)\n",
      " |-- CT12: string (nullable = true)\n",
      " |-- CTCB10: string (nullable = true)\n",
      " |-- HD_2012: long (nullable = true)\n",
      " |-- HD_NAME: string (nullable = true)\n",
      " |-- HOUSING10: long (nullable = true)\n",
      " |-- LA_FIP10: string (nullable = true)\n",
      " |-- OBJECTID: long (nullable = true)\n",
      " |-- POP_2010: long (nullable = true)\n",
      " |-- PUMA10: string (nullable = true)\n",
      " |-- SPA_2012: long (nullable = true)\n",
      " |-- SPA_NAME: string (nullable = true)\n",
      " |-- SUP_DIST: string (nullable = true)\n",
      " |-- SUP_LABEL: string (nullable = true)\n",
      " |-- ShapeSTArea: double (nullable = true)\n",
      " |-- ShapeSTLength: double (nullable = true)\n",
      " |-- ZCTA10: string (nullable = true)\n",
      " |-- geometry: geometry (nullable = true)"
     ]
    }
   ],
   "source": [
    "sedona = SedonaContext.create(spark)\n",
    "# Read the file from s3\n",
    "geojson_path = \"s3://initial-notebook-data-bucket-dblab-905418150721/2010_Census_Blocks.geojson\"\n",
    "blocks_df = sedona.read.format(\"geojson\") \\\n",
    "            .option(\"multiLine\", \"true\").load(geojson_path) \\\n",
    "            .selectExpr(\"explode(features) as features\") \\\n",
    "            .select(\"features.*\")\n",
    "\n",
    "flat_census_data = blocks_df.select( \\\n",
    "                [col(f\"properties.{col_name}\").alias(col_name) for col_name in \\\n",
    "                blocks_df.schema[\"properties\"].dataType.fieldNames()] + [\"geometry\"]) \\\n",
    "            .drop(\"properties\") \\\n",
    "            .drop(\"type\")\n",
    "# Print schema\n",
    "flat_census_data.printSchema()"
   ]
  },
  {
   "cell_type": "code",
   "execution_count": 9,
   "id": "8049155d",
   "metadata": {},
   "outputs": [
    {
     "data": {
      "application/vnd.jupyter.widget-view+json": {
       "model_id": "",
       "version_major": 2,
       "version_minor": 0
      },
      "text/plain": [
       "FloatProgress(value=0.0, bar_style='info', description='Progress:', layout=Layout(height='25px', width='50%'),…"
      ]
     },
     "metadata": {},
     "output_type": "display_data"
    },
    {
     "name": "stdout",
     "output_type": "stream",
     "text": [
      "root\n",
      " |-- COMM: string (nullable = true)\n",
      " |-- geometry: geometry (nullable = true)"
     ]
    }
   ],
   "source": [
    "LA_areas = flattened_df.filter(col(\"CITY\") == \"Los Angeles\") \\\n",
    "                .groupBy(\"COMM\") \\\n",
    "                .agg(ST_Union_Aggr(\"geometry\").alias(\"geometry\"))\n",
    "LA_areas.printSchema()"
   ]
  },
  {
   "cell_type": "code",
   "execution_count": 16,
   "id": "ec71e05c",
   "metadata": {},
   "outputs": [
    {
     "data": {
      "application/vnd.jupyter.widget-view+json": {
       "model_id": "",
       "version_major": 2,
       "version_minor": 0
      },
      "text/plain": [
       "FloatProgress(value=0.0, bar_style='info', description='Progress:', layout=Layout(height='25px', width='50%'),…"
      ]
     },
     "metadata": {},
     "output_type": "display_data"
    },
    {
     "name": "stdout",
     "output_type": "stream",
     "text": [
      "root\n",
      " |-- COMM: string (nullable = true)\n",
      " |-- total_housing: long (nullable = true)\n",
      " |-- total_population: long (nullable = true)\n",
      " |-- zip_codes: array (nullable = false)\n",
      " |    |-- element: string (containsNull = false)"
     ]
    }
   ],
   "source": [
    "from pyspark.sql.functions import col, sum as spark_sum, collect_list\n",
    "\n",
    "# Φιλτράρισμα για \"Los Angeles\"\n",
    "# Ομαδοποίηση ανά \"COMM\" και άθροιση HOUSING10, POP_2010\n",
    "LA_areas = flat_census_data.filter(col(\"CITY\") == \"Los Angeles\") \\\n",
    "                .groupBy(\"COMM\") \\\n",
    "                .agg(\n",
    "                 spark_sum(\"HOUSING10\").alias(\"total_housing\"),\n",
    "                 spark_sum(\"POP_2010\").alias(\"total_population\"),\n",
    "                 collect_list(\"ZCTA10\").alias(\"zip_codes\")\n",
    ")\n",
    "LA_areas.printSchema()"
   ]
  },
  {
   "cell_type": "markdown",
   "id": "9c0bd248-9ae7-48ee-8909-79f83c3d33a8",
   "metadata": {},
   "source": [
    "# Query 4"
   ]
  },
  {
   "cell_type": "markdown",
   "id": "acd04246-c4da-4512-a646-6ab5dc3d96b3",
   "metadata": {},
   "source": [
    "# Query 5"
   ]
  },
  {
   "cell_type": "markdown",
   "id": "25826414-f106-45f6-aeec-b4060a5bc0c5",
   "metadata": {},
   "source": [
    "## Configurations"
   ]
  },
  {
   "cell_type": "code",
   "execution_count": 2,
   "id": "8e6dd77b-7520-4935-9429-58636d7d8a2e",
   "metadata": {
    "tags": []
   },
   "outputs": [
    {
     "name": "stdout",
     "output_type": "stream",
     "text": [
      "Starting Spark application\n"
     ]
    },
    {
     "data": {
      "text/html": [
       "<table>\n",
       "<tr><th>ID</th><th>YARN Application ID</th><th>Kind</th><th>State</th><th>Spark UI</th><th>Driver log</th><th>User</th><th>Current session?</th></tr><tr><td>1268</td><td>application_1732639283265_1231</td><td>pyspark</td><td>idle</td><td><a target=\"_blank\" href=\"http://ip-192-168-1-36.eu-central-1.compute.internal:20888/proxy/application_1732639283265_1231/\">Link</a></td><td><a target=\"_blank\" href=\"http://ip-192-168-1-91.eu-central-1.compute.internal:8042/node/containerlogs/container_1732639283265_1231_01_000001/livy\">Link</a></td><td>None</td><td>✔</td></tr></table>"
      ],
      "text/plain": [
       "<IPython.core.display.HTML object>"
      ]
     },
     "metadata": {},
     "output_type": "display_data"
    },
    {
     "data": {
      "application/vnd.jupyter.widget-view+json": {
       "model_id": "",
       "version_major": 2,
       "version_minor": 0
      },
      "text/plain": [
       "FloatProgress(value=0.0, bar_style='info', description='Progress:', layout=Layout(height='25px', width='50%'),…"
      ]
     },
     "metadata": {},
     "output_type": "display_data"
    },
    {
     "name": "stdout",
     "output_type": "stream",
     "text": [
      "SparkSession available as 'spark'.\n"
     ]
    },
    {
     "data": {
      "text/html": [
       "Current session configs: <tt>{'conf': {'spark.sql.catalog.spark_catalog.type': 'hive', 'spark.executor.instances': '2', 'spark.executor.memory': '8g', 'spark.executor.cores': '4'}, 'kind': 'pyspark'}</tt><br>"
      ],
      "text/plain": [
       "<IPython.core.display.HTML object>"
      ]
     },
     "metadata": {},
     "output_type": "display_data"
    },
    {
     "data": {
      "text/html": [
       "<table>\n",
       "<tr><th>ID</th><th>YARN Application ID</th><th>Kind</th><th>State</th><th>Spark UI</th><th>Driver log</th><th>User</th><th>Current session?</th></tr><tr><td>1208</td><td>application_1732639283265_1171</td><td>pyspark</td><td>idle</td><td><a target=\"_blank\" href=\"http://ip-192-168-1-36.eu-central-1.compute.internal:20888/proxy/application_1732639283265_1171/\">Link</a></td><td><a target=\"_blank\" href=\"http://ip-192-168-1-193.eu-central-1.compute.internal:8042/node/containerlogs/container_1732639283265_1171_01_000001/livy\">Link</a></td><td>None</td><td></td></tr><tr><td>1211</td><td>application_1732639283265_1174</td><td>pyspark</td><td>idle</td><td><a target=\"_blank\" href=\"http://ip-192-168-1-36.eu-central-1.compute.internal:20888/proxy/application_1732639283265_1174/\">Link</a></td><td><a target=\"_blank\" href=\"http://ip-192-168-1-178.eu-central-1.compute.internal:8042/node/containerlogs/container_1732639283265_1174_01_000001/livy\">Link</a></td><td>None</td><td></td></tr><tr><td>1212</td><td>application_1732639283265_1175</td><td>pyspark</td><td>idle</td><td><a target=\"_blank\" href=\"http://ip-192-168-1-36.eu-central-1.compute.internal:20888/proxy/application_1732639283265_1175/\">Link</a></td><td><a target=\"_blank\" href=\"http://ip-192-168-1-119.eu-central-1.compute.internal:8042/node/containerlogs/container_1732639283265_1175_01_000001/livy\">Link</a></td><td>None</td><td></td></tr><tr><td>1213</td><td>application_1732639283265_1176</td><td>pyspark</td><td>idle</td><td><a target=\"_blank\" href=\"http://ip-192-168-1-36.eu-central-1.compute.internal:20888/proxy/application_1732639283265_1176/\">Link</a></td><td><a target=\"_blank\" href=\"http://ip-192-168-1-174.eu-central-1.compute.internal:8042/node/containerlogs/container_1732639283265_1176_01_000001/livy\">Link</a></td><td>None</td><td></td></tr><tr><td>1233</td><td>application_1732639283265_1196</td><td>pyspark</td><td>idle</td><td><a target=\"_blank\" href=\"http://ip-192-168-1-36.eu-central-1.compute.internal:20888/proxy/application_1732639283265_1196/\">Link</a></td><td><a target=\"_blank\" href=\"http://ip-192-168-1-233.eu-central-1.compute.internal:8042/node/containerlogs/container_1732639283265_1196_01_000001/livy\">Link</a></td><td>None</td><td></td></tr><tr><td>1236</td><td>application_1732639283265_1199</td><td>pyspark</td><td>idle</td><td><a target=\"_blank\" href=\"http://ip-192-168-1-36.eu-central-1.compute.internal:20888/proxy/application_1732639283265_1199/\">Link</a></td><td><a target=\"_blank\" href=\"http://ip-192-168-1-16.eu-central-1.compute.internal:8042/node/containerlogs/container_1732639283265_1199_01_000001/livy\">Link</a></td><td>None</td><td></td></tr><tr><td>1238</td><td>application_1732639283265_1201</td><td>pyspark</td><td>idle</td><td><a target=\"_blank\" href=\"http://ip-192-168-1-36.eu-central-1.compute.internal:20888/proxy/application_1732639283265_1201/\">Link</a></td><td><a target=\"_blank\" href=\"http://ip-192-168-1-16.eu-central-1.compute.internal:8042/node/containerlogs/container_1732639283265_1201_01_000001/livy\">Link</a></td><td>None</td><td></td></tr><tr><td>1240</td><td>application_1732639283265_1203</td><td>pyspark</td><td>idle</td><td><a target=\"_blank\" href=\"http://ip-192-168-1-36.eu-central-1.compute.internal:20888/proxy/application_1732639283265_1203/\">Link</a></td><td><a target=\"_blank\" href=\"http://ip-192-168-1-193.eu-central-1.compute.internal:8042/node/containerlogs/container_1732639283265_1203_01_000002/livy\">Link</a></td><td>None</td><td></td></tr><tr><td>1243</td><td>application_1732639283265_1206</td><td>pyspark</td><td>idle</td><td><a target=\"_blank\" href=\"http://ip-192-168-1-36.eu-central-1.compute.internal:20888/proxy/application_1732639283265_1206/\">Link</a></td><td><a target=\"_blank\" href=\"http://ip-192-168-1-94.eu-central-1.compute.internal:8042/node/containerlogs/container_1732639283265_1206_01_000001/livy\">Link</a></td><td>None</td><td></td></tr><tr><td>1244</td><td>application_1732639283265_1207</td><td>pyspark</td><td>idle</td><td><a target=\"_blank\" href=\"http://ip-192-168-1-36.eu-central-1.compute.internal:20888/proxy/application_1732639283265_1207/\">Link</a></td><td><a target=\"_blank\" href=\"http://ip-192-168-1-80.eu-central-1.compute.internal:8042/node/containerlogs/container_1732639283265_1207_01_000002/livy\">Link</a></td><td>None</td><td></td></tr><tr><td>1246</td><td>application_1732639283265_1209</td><td>pyspark</td><td>idle</td><td><a target=\"_blank\" href=\"http://ip-192-168-1-36.eu-central-1.compute.internal:20888/proxy/application_1732639283265_1209/\">Link</a></td><td><a target=\"_blank\" href=\"http://ip-192-168-1-117.eu-central-1.compute.internal:8042/node/containerlogs/container_1732639283265_1209_01_000001/livy\">Link</a></td><td>None</td><td></td></tr><tr><td>1248</td><td>application_1732639283265_1211</td><td>pyspark</td><td>busy</td><td><a target=\"_blank\" href=\"http://ip-192-168-1-36.eu-central-1.compute.internal:20888/proxy/application_1732639283265_1211/\">Link</a></td><td><a target=\"_blank\" href=\"http://ip-192-168-1-119.eu-central-1.compute.internal:8042/node/containerlogs/container_1732639283265_1211_01_000001/livy\">Link</a></td><td>None</td><td></td></tr><tr><td>1251</td><td>application_1732639283265_1214</td><td>pyspark</td><td>idle</td><td><a target=\"_blank\" href=\"http://ip-192-168-1-36.eu-central-1.compute.internal:20888/proxy/application_1732639283265_1214/\">Link</a></td><td><a target=\"_blank\" href=\"http://ip-192-168-1-80.eu-central-1.compute.internal:8042/node/containerlogs/container_1732639283265_1214_01_000001/livy\">Link</a></td><td>None</td><td></td></tr><tr><td>1253</td><td>application_1732639283265_1216</td><td>pyspark</td><td>idle</td><td><a target=\"_blank\" href=\"http://ip-192-168-1-36.eu-central-1.compute.internal:20888/proxy/application_1732639283265_1216/\">Link</a></td><td><a target=\"_blank\" href=\"http://ip-192-168-1-203.eu-central-1.compute.internal:8042/node/containerlogs/container_1732639283265_1216_01_000001/livy\">Link</a></td><td>None</td><td></td></tr><tr><td>1255</td><td>application_1732639283265_1218</td><td>pyspark</td><td>idle</td><td><a target=\"_blank\" href=\"http://ip-192-168-1-36.eu-central-1.compute.internal:20888/proxy/application_1732639283265_1218/\">Link</a></td><td><a target=\"_blank\" href=\"http://ip-192-168-1-16.eu-central-1.compute.internal:8042/node/containerlogs/container_1732639283265_1218_01_000001/livy\">Link</a></td><td>None</td><td></td></tr><tr><td>1256</td><td>application_1732639283265_1219</td><td>pyspark</td><td>idle</td><td><a target=\"_blank\" href=\"http://ip-192-168-1-36.eu-central-1.compute.internal:20888/proxy/application_1732639283265_1219/\">Link</a></td><td><a target=\"_blank\" href=\"http://ip-192-168-1-181.eu-central-1.compute.internal:8042/node/containerlogs/container_1732639283265_1219_01_000002/livy\">Link</a></td><td>None</td><td></td></tr><tr><td>1260</td><td>application_1732639283265_1223</td><td>pyspark</td><td>idle</td><td><a target=\"_blank\" href=\"http://ip-192-168-1-36.eu-central-1.compute.internal:20888/proxy/application_1732639283265_1223/\">Link</a></td><td><a target=\"_blank\" href=\"http://ip-192-168-1-94.eu-central-1.compute.internal:8042/node/containerlogs/container_1732639283265_1223_01_000001/livy\">Link</a></td><td>None</td><td></td></tr><tr><td>1265</td><td>application_1732639283265_1228</td><td>pyspark</td><td>idle</td><td><a target=\"_blank\" href=\"http://ip-192-168-1-36.eu-central-1.compute.internal:20888/proxy/application_1732639283265_1228/\">Link</a></td><td><a target=\"_blank\" href=\"http://ip-192-168-1-174.eu-central-1.compute.internal:8042/node/containerlogs/container_1732639283265_1228_01_000001/livy\">Link</a></td><td>None</td><td></td></tr><tr><td>1266</td><td>application_1732639283265_1229</td><td>pyspark</td><td>idle</td><td><a target=\"_blank\" href=\"http://ip-192-168-1-36.eu-central-1.compute.internal:20888/proxy/application_1732639283265_1229/\">Link</a></td><td><a target=\"_blank\" href=\"http://ip-192-168-1-233.eu-central-1.compute.internal:8042/node/containerlogs/container_1732639283265_1229_01_000001/livy\">Link</a></td><td>None</td><td></td></tr><tr><td>1268</td><td>application_1732639283265_1231</td><td>pyspark</td><td>idle</td><td><a target=\"_blank\" href=\"http://ip-192-168-1-36.eu-central-1.compute.internal:20888/proxy/application_1732639283265_1231/\">Link</a></td><td><a target=\"_blank\" href=\"http://ip-192-168-1-91.eu-central-1.compute.internal:8042/node/containerlogs/container_1732639283265_1231_01_000001/livy\">Link</a></td><td>None</td><td>✔</td></tr></table>"
      ],
      "text/plain": [
       "<IPython.core.display.HTML object>"
      ]
     },
     "metadata": {},
     "output_type": "display_data"
    }
   ],
   "source": [
    "%%configure -f\n",
    "{\n",
    "    \"conf\": {\n",
    "        \"spark.executor.instances\": \"2\",\n",
    "        \"spark.executor.memory\": \"8g\",\n",
    "        \"spark.executor.cores\": \"4\"\n",
    "    }\n",
    "}"
   ]
  },
  {
   "cell_type": "code",
   "execution_count": 7,
   "id": "36e1af32-d66c-41be-82ba-f1de33c9bb48",
   "metadata": {
    "tags": []
   },
   "outputs": [
    {
     "name": "stdout",
     "output_type": "stream",
     "text": [
      "Starting Spark application\n"
     ]
    },
    {
     "data": {
      "text/html": [
       "<table>\n",
       "<tr><th>ID</th><th>YARN Application ID</th><th>Kind</th><th>State</th><th>Spark UI</th><th>Driver log</th><th>User</th><th>Current session?</th></tr><tr><td>1269</td><td>application_1732639283265_1232</td><td>pyspark</td><td>idle</td><td><a target=\"_blank\" href=\"http://ip-192-168-1-36.eu-central-1.compute.internal:20888/proxy/application_1732639283265_1232/\">Link</a></td><td><a target=\"_blank\" href=\"http://ip-192-168-1-117.eu-central-1.compute.internal:8042/node/containerlogs/container_1732639283265_1232_01_000001/livy\">Link</a></td><td>None</td><td>✔</td></tr></table>"
      ],
      "text/plain": [
       "<IPython.core.display.HTML object>"
      ]
     },
     "metadata": {},
     "output_type": "display_data"
    },
    {
     "data": {
      "application/vnd.jupyter.widget-view+json": {
       "model_id": "",
       "version_major": 2,
       "version_minor": 0
      },
      "text/plain": [
       "FloatProgress(value=0.0, bar_style='info', description='Progress:', layout=Layout(height='25px', width='50%'),…"
      ]
     },
     "metadata": {},
     "output_type": "display_data"
    },
    {
     "name": "stdout",
     "output_type": "stream",
     "text": [
      "SparkSession available as 'spark'.\n"
     ]
    },
    {
     "data": {
      "text/html": [
       "Current session configs: <tt>{'conf': {'spark.sql.catalog.spark_catalog.type': 'hive', 'spark.executor.instances': '4', 'spark.executor.memory': '4g', 'spark.executor.cores': '2'}, 'kind': 'pyspark'}</tt><br>"
      ],
      "text/plain": [
       "<IPython.core.display.HTML object>"
      ]
     },
     "metadata": {},
     "output_type": "display_data"
    },
    {
     "data": {
      "text/html": [
       "<table>\n",
       "<tr><th>ID</th><th>YARN Application ID</th><th>Kind</th><th>State</th><th>Spark UI</th><th>Driver log</th><th>User</th><th>Current session?</th></tr><tr><td>1208</td><td>application_1732639283265_1171</td><td>pyspark</td><td>idle</td><td><a target=\"_blank\" href=\"http://ip-192-168-1-36.eu-central-1.compute.internal:20888/proxy/application_1732639283265_1171/\">Link</a></td><td><a target=\"_blank\" href=\"http://ip-192-168-1-193.eu-central-1.compute.internal:8042/node/containerlogs/container_1732639283265_1171_01_000001/livy\">Link</a></td><td>None</td><td></td></tr><tr><td>1211</td><td>application_1732639283265_1174</td><td>pyspark</td><td>idle</td><td><a target=\"_blank\" href=\"http://ip-192-168-1-36.eu-central-1.compute.internal:20888/proxy/application_1732639283265_1174/\">Link</a></td><td><a target=\"_blank\" href=\"http://ip-192-168-1-178.eu-central-1.compute.internal:8042/node/containerlogs/container_1732639283265_1174_01_000001/livy\">Link</a></td><td>None</td><td></td></tr><tr><td>1212</td><td>application_1732639283265_1175</td><td>pyspark</td><td>idle</td><td><a target=\"_blank\" href=\"http://ip-192-168-1-36.eu-central-1.compute.internal:20888/proxy/application_1732639283265_1175/\">Link</a></td><td><a target=\"_blank\" href=\"http://ip-192-168-1-119.eu-central-1.compute.internal:8042/node/containerlogs/container_1732639283265_1175_01_000001/livy\">Link</a></td><td>None</td><td></td></tr><tr><td>1213</td><td>application_1732639283265_1176</td><td>pyspark</td><td>idle</td><td><a target=\"_blank\" href=\"http://ip-192-168-1-36.eu-central-1.compute.internal:20888/proxy/application_1732639283265_1176/\">Link</a></td><td><a target=\"_blank\" href=\"http://ip-192-168-1-174.eu-central-1.compute.internal:8042/node/containerlogs/container_1732639283265_1176_01_000001/livy\">Link</a></td><td>None</td><td></td></tr><tr><td>1233</td><td>application_1732639283265_1196</td><td>pyspark</td><td>idle</td><td><a target=\"_blank\" href=\"http://ip-192-168-1-36.eu-central-1.compute.internal:20888/proxy/application_1732639283265_1196/\">Link</a></td><td><a target=\"_blank\" href=\"http://ip-192-168-1-233.eu-central-1.compute.internal:8042/node/containerlogs/container_1732639283265_1196_01_000001/livy\">Link</a></td><td>None</td><td></td></tr><tr><td>1236</td><td>application_1732639283265_1199</td><td>pyspark</td><td>idle</td><td><a target=\"_blank\" href=\"http://ip-192-168-1-36.eu-central-1.compute.internal:20888/proxy/application_1732639283265_1199/\">Link</a></td><td><a target=\"_blank\" href=\"http://ip-192-168-1-16.eu-central-1.compute.internal:8042/node/containerlogs/container_1732639283265_1199_01_000001/livy\">Link</a></td><td>None</td><td></td></tr><tr><td>1238</td><td>application_1732639283265_1201</td><td>pyspark</td><td>idle</td><td><a target=\"_blank\" href=\"http://ip-192-168-1-36.eu-central-1.compute.internal:20888/proxy/application_1732639283265_1201/\">Link</a></td><td><a target=\"_blank\" href=\"http://ip-192-168-1-16.eu-central-1.compute.internal:8042/node/containerlogs/container_1732639283265_1201_01_000001/livy\">Link</a></td><td>None</td><td></td></tr><tr><td>1240</td><td>application_1732639283265_1203</td><td>pyspark</td><td>idle</td><td><a target=\"_blank\" href=\"http://ip-192-168-1-36.eu-central-1.compute.internal:20888/proxy/application_1732639283265_1203/\">Link</a></td><td><a target=\"_blank\" href=\"http://ip-192-168-1-193.eu-central-1.compute.internal:8042/node/containerlogs/container_1732639283265_1203_01_000002/livy\">Link</a></td><td>None</td><td></td></tr><tr><td>1243</td><td>application_1732639283265_1206</td><td>pyspark</td><td>idle</td><td><a target=\"_blank\" href=\"http://ip-192-168-1-36.eu-central-1.compute.internal:20888/proxy/application_1732639283265_1206/\">Link</a></td><td><a target=\"_blank\" href=\"http://ip-192-168-1-94.eu-central-1.compute.internal:8042/node/containerlogs/container_1732639283265_1206_01_000001/livy\">Link</a></td><td>None</td><td></td></tr><tr><td>1244</td><td>application_1732639283265_1207</td><td>pyspark</td><td>idle</td><td><a target=\"_blank\" href=\"http://ip-192-168-1-36.eu-central-1.compute.internal:20888/proxy/application_1732639283265_1207/\">Link</a></td><td><a target=\"_blank\" href=\"http://ip-192-168-1-80.eu-central-1.compute.internal:8042/node/containerlogs/container_1732639283265_1207_01_000002/livy\">Link</a></td><td>None</td><td></td></tr><tr><td>1246</td><td>application_1732639283265_1209</td><td>pyspark</td><td>idle</td><td><a target=\"_blank\" href=\"http://ip-192-168-1-36.eu-central-1.compute.internal:20888/proxy/application_1732639283265_1209/\">Link</a></td><td><a target=\"_blank\" href=\"http://ip-192-168-1-117.eu-central-1.compute.internal:8042/node/containerlogs/container_1732639283265_1209_01_000001/livy\">Link</a></td><td>None</td><td></td></tr><tr><td>1248</td><td>application_1732639283265_1211</td><td>pyspark</td><td>idle</td><td><a target=\"_blank\" href=\"http://ip-192-168-1-36.eu-central-1.compute.internal:20888/proxy/application_1732639283265_1211/\">Link</a></td><td><a target=\"_blank\" href=\"http://ip-192-168-1-119.eu-central-1.compute.internal:8042/node/containerlogs/container_1732639283265_1211_01_000001/livy\">Link</a></td><td>None</td><td></td></tr><tr><td>1251</td><td>application_1732639283265_1214</td><td>pyspark</td><td>idle</td><td><a target=\"_blank\" href=\"http://ip-192-168-1-36.eu-central-1.compute.internal:20888/proxy/application_1732639283265_1214/\">Link</a></td><td><a target=\"_blank\" href=\"http://ip-192-168-1-80.eu-central-1.compute.internal:8042/node/containerlogs/container_1732639283265_1214_01_000001/livy\">Link</a></td><td>None</td><td></td></tr><tr><td>1253</td><td>application_1732639283265_1216</td><td>pyspark</td><td>idle</td><td><a target=\"_blank\" href=\"http://ip-192-168-1-36.eu-central-1.compute.internal:20888/proxy/application_1732639283265_1216/\">Link</a></td><td><a target=\"_blank\" href=\"http://ip-192-168-1-203.eu-central-1.compute.internal:8042/node/containerlogs/container_1732639283265_1216_01_000001/livy\">Link</a></td><td>None</td><td></td></tr><tr><td>1255</td><td>application_1732639283265_1218</td><td>pyspark</td><td>idle</td><td><a target=\"_blank\" href=\"http://ip-192-168-1-36.eu-central-1.compute.internal:20888/proxy/application_1732639283265_1218/\">Link</a></td><td><a target=\"_blank\" href=\"http://ip-192-168-1-16.eu-central-1.compute.internal:8042/node/containerlogs/container_1732639283265_1218_01_000001/livy\">Link</a></td><td>None</td><td></td></tr><tr><td>1256</td><td>application_1732639283265_1219</td><td>pyspark</td><td>idle</td><td><a target=\"_blank\" href=\"http://ip-192-168-1-36.eu-central-1.compute.internal:20888/proxy/application_1732639283265_1219/\">Link</a></td><td><a target=\"_blank\" href=\"http://ip-192-168-1-181.eu-central-1.compute.internal:8042/node/containerlogs/container_1732639283265_1219_01_000002/livy\">Link</a></td><td>None</td><td></td></tr><tr><td>1260</td><td>application_1732639283265_1223</td><td>pyspark</td><td>idle</td><td><a target=\"_blank\" href=\"http://ip-192-168-1-36.eu-central-1.compute.internal:20888/proxy/application_1732639283265_1223/\">Link</a></td><td><a target=\"_blank\" href=\"http://ip-192-168-1-94.eu-central-1.compute.internal:8042/node/containerlogs/container_1732639283265_1223_01_000001/livy\">Link</a></td><td>None</td><td></td></tr><tr><td>1265</td><td>application_1732639283265_1228</td><td>pyspark</td><td>idle</td><td><a target=\"_blank\" href=\"http://ip-192-168-1-36.eu-central-1.compute.internal:20888/proxy/application_1732639283265_1228/\">Link</a></td><td><a target=\"_blank\" href=\"http://ip-192-168-1-174.eu-central-1.compute.internal:8042/node/containerlogs/container_1732639283265_1228_01_000001/livy\">Link</a></td><td>None</td><td></td></tr><tr><td>1266</td><td>application_1732639283265_1229</td><td>pyspark</td><td>idle</td><td><a target=\"_blank\" href=\"http://ip-192-168-1-36.eu-central-1.compute.internal:20888/proxy/application_1732639283265_1229/\">Link</a></td><td><a target=\"_blank\" href=\"http://ip-192-168-1-233.eu-central-1.compute.internal:8042/node/containerlogs/container_1732639283265_1229_01_000001/livy\">Link</a></td><td>None</td><td></td></tr><tr><td>1269</td><td>application_1732639283265_1232</td><td>pyspark</td><td>idle</td><td><a target=\"_blank\" href=\"http://ip-192-168-1-36.eu-central-1.compute.internal:20888/proxy/application_1732639283265_1232/\">Link</a></td><td><a target=\"_blank\" href=\"http://ip-192-168-1-117.eu-central-1.compute.internal:8042/node/containerlogs/container_1732639283265_1232_01_000001/livy\">Link</a></td><td>None</td><td>✔</td></tr></table>"
      ],
      "text/plain": [
       "<IPython.core.display.HTML object>"
      ]
     },
     "metadata": {},
     "output_type": "display_data"
    }
   ],
   "source": [
    "%%configure -f\n",
    "{\n",
    "    \"conf\": {\n",
    "        \"spark.executor.instances\": \"4\",\n",
    "        \"spark.executor.memory\": \"4g\",\n",
    "        \"spark.executor.cores\": \"2\"\n",
    "    }\n",
    "}"
   ]
  },
  {
   "cell_type": "code",
   "execution_count": 12,
   "id": "9a42783f-f5e9-474f-9971-b8d2c72ebc9e",
   "metadata": {
    "tags": []
   },
   "outputs": [
    {
     "name": "stdout",
     "output_type": "stream",
     "text": [
      "Starting Spark application\n"
     ]
    },
    {
     "data": {
      "text/html": [
       "<table>\n",
       "<tr><th>ID</th><th>YARN Application ID</th><th>Kind</th><th>State</th><th>Spark UI</th><th>Driver log</th><th>User</th><th>Current session?</th></tr><tr><td>1452</td><td>application_1732639283265_1413</td><td>pyspark</td><td>idle</td><td><a target=\"_blank\" href=\"http://ip-192-168-1-36.eu-central-1.compute.internal:20888/proxy/application_1732639283265_1413/\">Link</a></td><td><a target=\"_blank\" href=\"http://ip-192-168-1-174.eu-central-1.compute.internal:8042/node/containerlogs/container_1732639283265_1413_01_000001/livy\">Link</a></td><td>None</td><td>✔</td></tr></table>"
      ],
      "text/plain": [
       "<IPython.core.display.HTML object>"
      ]
     },
     "metadata": {},
     "output_type": "display_data"
    },
    {
     "data": {
      "application/vnd.jupyter.widget-view+json": {
       "model_id": "",
       "version_major": 2,
       "version_minor": 0
      },
      "text/plain": [
       "FloatProgress(value=0.0, bar_style='info', description='Progress:', layout=Layout(height='25px', width='50%'),…"
      ]
     },
     "metadata": {},
     "output_type": "display_data"
    },
    {
     "name": "stdout",
     "output_type": "stream",
     "text": [
      "SparkSession available as 'spark'.\n"
     ]
    },
    {
     "data": {
      "text/html": [
       "Current session configs: <tt>{'conf': {'spark.sql.catalog.spark_catalog.type': 'hive', 'spark.executor.instances': '8', 'spark.executor.memory': '2g', 'spark.executor.cores': '1'}, 'kind': 'pyspark'}</tt><br>"
      ],
      "text/plain": [
       "<IPython.core.display.HTML object>"
      ]
     },
     "metadata": {},
     "output_type": "display_data"
    },
    {
     "data": {
      "text/html": [
       "<table>\n",
       "<tr><th>ID</th><th>YARN Application ID</th><th>Kind</th><th>State</th><th>Spark UI</th><th>Driver log</th><th>User</th><th>Current session?</th></tr><tr><td>1451</td><td>application_1732639283265_1412</td><td>pyspark</td><td>idle</td><td><a target=\"_blank\" href=\"http://ip-192-168-1-36.eu-central-1.compute.internal:20888/proxy/application_1732639283265_1412/\">Link</a></td><td><a target=\"_blank\" href=\"http://ip-192-168-1-174.eu-central-1.compute.internal:8042/node/containerlogs/container_1732639283265_1412_01_000001/livy\">Link</a></td><td>None</td><td></td></tr><tr><td>1452</td><td>application_1732639283265_1413</td><td>pyspark</td><td>idle</td><td><a target=\"_blank\" href=\"http://ip-192-168-1-36.eu-central-1.compute.internal:20888/proxy/application_1732639283265_1413/\">Link</a></td><td><a target=\"_blank\" href=\"http://ip-192-168-1-174.eu-central-1.compute.internal:8042/node/containerlogs/container_1732639283265_1413_01_000001/livy\">Link</a></td><td>None</td><td>✔</td></tr></table>"
      ],
      "text/plain": [
       "<IPython.core.display.HTML object>"
      ]
     },
     "metadata": {},
     "output_type": "display_data"
    }
   ],
   "source": [
    "%%configure -f\n",
    "{\n",
    "    \"conf\": {\n",
    "        \"spark.executor.instances\": \"8\",\n",
    "        \"spark.executor.memory\": \"2g\",\n",
    "        \"spark.executor.cores\": \"1\"\n",
    "    }\n",
    "}"
   ]
  },
  {
   "cell_type": "markdown",
   "id": "9e16f8bf-30eb-4014-bcaf-633ee2d5fdfd",
   "metadata": {},
   "source": [
    "## PySpark imports, Read datasets, register functions"
   ]
  },
  {
   "cell_type": "code",
   "execution_count": 14,
   "id": "a568ba62-e0ea-4a3a-9062-0f19b784586e",
   "metadata": {
    "tags": []
   },
   "outputs": [
    {
     "data": {
      "application/vnd.jupyter.widget-view+json": {
       "model_id": "",
       "version_major": 2,
       "version_minor": 0
      },
      "text/plain": [
       "FloatProgress(value=0.0, bar_style='info', description='Progress:', layout=Layout(height='25px', width='50%'),…"
      ]
     },
     "metadata": {},
     "output_type": "display_data"
    }
   ],
   "source": [
    "from pyspark.sql import SparkSession\n",
    "from pyspark.sql import SparkSession\n",
    "from pyspark.sql.types import StructField, StructType, IntegerType, FloatType, StringType, BooleanType\n",
    "from pyspark.sql.functions import col, udf, sum, max, min, avg, count, mean, when, monotonically_increasing_id, dense_rank, window, row_number\n",
    "from pyspark.sql.window import Window\n",
    "from sedona.spark import *\n",
    "\n",
    "spark = SparkSession.builder \\\n",
    "    .appName(\"Query 5\") \\\n",
    "    .getOrCreate()\n",
    "\n",
    "# Create sedona context\n",
    "sedona = SedonaContext.create(spark)\n",
    "\n",
    "# read datasets\n",
    "crimes_2010_19_df = spark.read.csv(\"s3://initial-notebook-data-bucket-dblab-905418150721/CrimeData/Crime_Data_from_2010_to_2019_20241101.csv\", header=True)\n",
    "crimes_2020_24_df = spark.read.csv(\"s3://initial-notebook-data-bucket-dblab-905418150721/CrimeData/Crime_Data_from_2020_to_Present_20241101.csv\", header=True)\n",
    "crimes_df = crimes_2010_19_df.union(crimes_2020_24_df)\n",
    "police_stations_df = spark.read.csv(\"s3://initial-notebook-data-bucket-dblab-905418150721/LA_Police_Stations.csv\", header=True)"
   ]
  },
  {
   "cell_type": "markdown",
   "id": "c2c98284-8ba9-4bc6-a61e-67b07951d524",
   "metadata": {},
   "source": [
    "## Query 5 - DataFrame API"
   ]
  },
  {
   "cell_type": "code",
   "execution_count": 15,
   "id": "cd7d2958-943b-4279-baa3-06a9dfe49db2",
   "metadata": {
    "tags": []
   },
   "outputs": [
    {
     "data": {
      "application/vnd.jupyter.widget-view+json": {
       "model_id": "",
       "version_major": 2,
       "version_minor": 0
      },
      "text/plain": [
       "FloatProgress(value=0.0, bar_style='info', description='Progress:', layout=Layout(height='25px', width='50%'),…"
      ]
     },
     "metadata": {},
     "output_type": "display_data"
    }
   ],
   "source": [
    "@measure_time\n",
    "def query5_dataframe(df, debug = False):\n",
    "    '''Shows the DF that is result of the query 5 using DataFrame API'''\n",
    "    global police_stations_df\n",
    "    \n",
    "    joined_df = df.select('DR_NO', 'AREA NAME', 'LON', 'LAT') \\\n",
    "        .filter( (col('LON') != '0') & (col('LON') != 0) ) \\\n",
    "        .withColumn(\"crime_point\", ST_Point(\"LON\", \"LAT\")) \\\n",
    "        .join(police_stations_df) \\\n",
    "        .withColumn(\"police_point\", ST_Point(\"X\", \"Y\")) \\\n",
    "        .withColumn('distance', ST_DistanceSphere(\"crime_point\", \"police_point\")/1000) # divide with 1000 to conver into km \\\n",
    "\n",
    "    crimes_in_null_island = df.filter( (col('LON') == '0') | (col('LON') == 0) ).count()\n",
    "        \n",
    "    if debug: joined_df.filter(col('DR_NO') == '001307355').show(30)\n",
    "    # In this DF, for each DR_NO we have 21 rows for the distances between the crime location and police departments \n",
    "\n",
    "    # Define a window \n",
    "    windowSpec = Window.partitionBy(\"DR_NO\")\n",
    "    extended_df = joined_df.withColumn(\"min_distance\", when(col(\"distance\").isNotNull(), min(\"distance\").over(windowSpec)).otherwise(None)) \\\n",
    "        .filter(col('distance') == col('min_distance'))\n",
    "    if debug: extended_df.filter(col('DR_NO') == '001307355').show(30)\n",
    "    if debug: extended_df.filter(col('DIVISION') == 'HOLLENBECK').orderBy('min_distance', ascending=True).show(30)\n",
    "    if debug: extended_df.filter(col('DIVISION') == 'HOLLENBECK').agg(avg('min_distance').alias('avg')).show()\n",
    "    # Now we have each DR_NO only once\n",
    "\n",
    "    grouped_df = extended_df.groupBy(\"DIVISION\") \\\n",
    "        .agg( \\\n",
    "             avg(\"min_distance\").alias(\"average_distance\"), \\\n",
    "             count(\"*\").alias(\"#\") \\\n",
    "        ) \\\n",
    "        .select('DIVISION', 'average_distance', '#') \\\n",
    "        .orderBy([\"#\"], ascending=[False])\n",
    "\n",
    "    schema = StructType([\n",
    "        StructField(\"DIVISION\", StringType(), nullable=True), \n",
    "        StructField(\"average_distance\", FloatType(), nullable=True), \n",
    "        StructField(\"#\", IntegerType(), nullable=False) \n",
    "    ])\n",
    "    # Create a DataFrame for the Null Island row\n",
    "    null_island_row = spark.createDataFrame([\n",
    "        (\"Unknown\", None, crimes_in_null_island) \n",
    "    ], schema)\n",
    "\n",
    "    grouped_df = grouped_df.union(null_island_row)\n",
    "    \n",
    "    if debug: grouped_df.agg(sum('#').alias('incidents')).show()\n",
    "\n",
    "    # This DF is grouped by police departments/divisions \n",
    "    # so we see the average distance of crimes that happened closer to that and the number of these incidents/crimes\n",
    "    grouped_df.show(50)"
   ]
  },
  {
   "cell_type": "markdown",
   "id": "07935f7c-e05c-4c78-b740-c39f538c132e",
   "metadata": {},
   "source": [
    "## Experiments"
   ]
  },
  {
   "cell_type": "code",
   "execution_count": 6,
   "id": "d3f2c44b-5869-4799-beb6-aff8b29a8eb4",
   "metadata": {
    "tags": []
   },
   "outputs": [
    {
     "data": {
      "application/vnd.jupyter.widget-view+json": {
       "model_id": "",
       "version_major": 2,
       "version_minor": 0
      },
      "text/plain": [
       "FloatProgress(value=0.0, bar_style='info', description='Progress:', layout=Layout(height='25px', width='50%'),…"
      ]
     },
     "metadata": {},
     "output_type": "display_data"
    },
    {
     "name": "stdout",
     "output_type": "stream",
     "text": [
      "Executor Instances: 2\n",
      "Executor Memory: 8g\n",
      "Executor Cores: 4\n",
      "+----------------+------------------+------+\n",
      "|        DIVISION|  average_distance|     #|\n",
      "+----------------+------------------+------+\n",
      "|       HOLLYWOOD|2.0762639601787205|224340|\n",
      "|        VAN NUYS| 2.953369742819787|210134|\n",
      "|       SOUTHWEST|2.1913988057808838|188901|\n",
      "|        WILSHIRE|2.5926655329787796|185996|\n",
      "|     77TH STREET| 1.716544971970102|171827|\n",
      "|         OLYMPIC|1.7236036971780937|170897|\n",
      "| NORTH HOLLYWOOD|2.6430060941415676|167854|\n",
      "|         PACIFIC|3.8500706553079027|161359|\n",
      "|         CENTRAL|0.9924764374568903|153871|\n",
      "|         RAMPART|1.5345341879190049|152736|\n",
      "|       SOUTHEAST|2.4218662158881794|152176|\n",
      "|     WEST VALLEY| 3.035671216314078|138643|\n",
      "|         TOPANGA|3.2969548417555608|138217|\n",
      "|        FOOTHILL| 4.250921708424991|134896|\n",
      "|          HARBOR|3.7025615993565033|126747|\n",
      "|      HOLLENBECK|2.6801812377068224|115837|\n",
      "|WEST LOS ANGELES| 2.792457289034108|115781|\n",
      "|          NEWTON|1.6346357397097435|111110|\n",
      "|       NORTHEAST|3.6236655246040765|108109|\n",
      "|         MISSION| 3.690942614278606|103355|\n",
      "|      DEVONSHIRE|2.8247654128008244| 77094|\n",
      "|         Unknown|              NULL|  3457|\n",
      "+----------------+------------------+------+\n",
      "\n",
      "Time taken by query5_dataframe: 27.66 seconds"
     ]
    }
   ],
   "source": [
    "# Access configuration\n",
    "conf = spark.sparkContext.getConf()\n",
    "\n",
    "# Print relevant executor settings\n",
    "print(\"Executor Instances:\", conf.get(\"spark.executor.instances\"))\n",
    "print(\"Executor Memory:\", conf.get(\"spark.executor.memory\"))\n",
    "print(\"Executor Cores:\", conf.get(\"spark.executor.cores\"))\n",
    "\n",
    "query5_dataframe(crimes_df)"
   ]
  },
  {
   "cell_type": "code",
   "execution_count": 11,
   "id": "4d36a4c1-1ace-48c5-9d34-fe25c266cf52",
   "metadata": {
    "tags": []
   },
   "outputs": [
    {
     "data": {
      "application/vnd.jupyter.widget-view+json": {
       "model_id": "",
       "version_major": 2,
       "version_minor": 0
      },
      "text/plain": [
       "FloatProgress(value=0.0, bar_style='info', description='Progress:', layout=Layout(height='25px', width='50%'),…"
      ]
     },
     "metadata": {},
     "output_type": "display_data"
    },
    {
     "name": "stdout",
     "output_type": "stream",
     "text": [
      "Executor Instances: 4\n",
      "Executor Memory: 4g\n",
      "Executor Cores: 2\n",
      "+----------------+------------------+------+\n",
      "|        DIVISION|  average_distance|     #|\n",
      "+----------------+------------------+------+\n",
      "|       HOLLYWOOD|2.0762639601787196|224340|\n",
      "|        VAN NUYS|2.9533697428197883|210134|\n",
      "|       SOUTHWEST| 2.191398805780884|188901|\n",
      "|        WILSHIRE|2.5926655329787796|185996|\n",
      "|     77TH STREET|1.7165449719701025|171827|\n",
      "|         OLYMPIC|1.7236036971780941|170897|\n",
      "| NORTH HOLLYWOOD| 2.643006094141567|167854|\n",
      "|         PACIFIC|3.8500706553079027|161359|\n",
      "|         CENTRAL|0.9924764374568901|153871|\n",
      "|         RAMPART|1.5345341879190044|152736|\n",
      "|       SOUTHEAST| 2.421866215888179|152176|\n",
      "|     WEST VALLEY|3.0356712163140793|138643|\n",
      "|         TOPANGA|3.2969548417555603|138217|\n",
      "|        FOOTHILL| 4.250921708424989|134896|\n",
      "|          HARBOR| 3.702561599356503|126747|\n",
      "|      HOLLENBECK|2.6801812377068237|115837|\n",
      "|WEST LOS ANGELES|2.7924572890341084|115781|\n",
      "|          NEWTON|1.6346357397097424|111110|\n",
      "|       NORTHEAST|3.6236655246040756|108109|\n",
      "|         MISSION|3.6909426142786046|103355|\n",
      "|      DEVONSHIRE|2.8247654128008253| 77094|\n",
      "|         Unknown|              NULL|  3457|\n",
      "+----------------+------------------+------+\n",
      "\n",
      "Time taken by query5_dataframe: 24.56 seconds"
     ]
    }
   ],
   "source": [
    "# Access configuration\n",
    "conf = spark.sparkContext.getConf()\n",
    "\n",
    "# Print relevant executor settings\n",
    "print(\"Executor Instances:\", conf.get(\"spark.executor.instances\"))\n",
    "print(\"Executor Memory:\", conf.get(\"spark.executor.memory\"))\n",
    "print(\"Executor Cores:\", conf.get(\"spark.executor.cores\"))\n",
    "\n",
    "query5_dataframe(crimes_df)"
   ]
  },
  {
   "cell_type": "code",
   "execution_count": 16,
   "id": "7817b190-88b4-4266-9b41-a243acd53cc3",
   "metadata": {
    "tags": []
   },
   "outputs": [
    {
     "data": {
      "application/vnd.jupyter.widget-view+json": {
       "model_id": "",
       "version_major": 2,
       "version_minor": 0
      },
      "text/plain": [
       "FloatProgress(value=0.0, bar_style='info', description='Progress:', layout=Layout(height='25px', width='50%'),…"
      ]
     },
     "metadata": {},
     "output_type": "display_data"
    },
    {
     "name": "stdout",
     "output_type": "stream",
     "text": [
      "Executor Instances: 8\n",
      "Executor Memory: 2g\n",
      "Executor Cores: 1\n",
      "+----------------+------------------+------+\n",
      "|        DIVISION|  average_distance|     #|\n",
      "+----------------+------------------+------+\n",
      "|       HOLLYWOOD|2.0762639601787205|224340|\n",
      "|        VAN NUYS|2.9533697428197865|210134|\n",
      "|       SOUTHWEST|2.1913988057808846|188901|\n",
      "|        WILSHIRE|2.5926655329787787|185996|\n",
      "|     77TH STREET|1.7165449719701025|171827|\n",
      "|         OLYMPIC|1.7236036971780935|170897|\n",
      "| NORTH HOLLYWOOD|2.6430060941415676|167854|\n",
      "|         PACIFIC|3.8500706553079027|161359|\n",
      "|         CENTRAL|0.9924764374568898|153871|\n",
      "|         RAMPART|1.5345341879190046|152736|\n",
      "|       SOUTHEAST| 2.421866215888179|152176|\n",
      "|     WEST VALLEY|3.0356712163140793|138643|\n",
      "|         TOPANGA|3.2969548417555603|138217|\n",
      "|        FOOTHILL| 4.250921708424989|134896|\n",
      "|          HARBOR|3.7025615993565038|126747|\n",
      "|      HOLLENBECK|2.6801812377068233|115837|\n",
      "|WEST LOS ANGELES|2.7924572890341075|115781|\n",
      "|          NEWTON| 1.634635739709743|111110|\n",
      "|       NORTHEAST|3.6236655246040756|108109|\n",
      "|         MISSION| 3.690942614278606|103355|\n",
      "|      DEVONSHIRE|2.8247654128008235| 77094|\n",
      "|         Unknown|              NULL|  3457|\n",
      "+----------------+------------------+------+\n",
      "\n",
      "Time taken by query5_dataframe: 44.33 seconds"
     ]
    }
   ],
   "source": [
    "# Access configuration\n",
    "conf = spark.sparkContext.getConf()\n",
    "\n",
    "# Print relevant executor settings\n",
    "print(\"Executor Instances:\", conf.get(\"spark.executor.instances\"))\n",
    "print(\"Executor Memory:\", conf.get(\"spark.executor.memory\"))\n",
    "print(\"Executor Cores:\", conf.get(\"spark.executor.cores\"))\n",
    "\n",
    "query5_dataframe(crimes_df)"
   ]
  },
  {
   "cell_type": "code",
   "execution_count": null,
   "id": "f9e0cf38-700f-4257-b87e-e491151f5e08",
   "metadata": {},
   "outputs": [],
   "source": []
  }
 ],
 "metadata": {
  "kernelspec": {
   "display_name": "Sparkmagic (PySpark)",
   "language": "python",
   "name": "pysparkkernel"
  },
  "language_info": {
   "codemirror_mode": {
    "name": "python",
    "version": 3
   },
   "file_extension": ".py",
   "mimetype": "text/x-python",
   "name": "pyspark",
   "pygments_lexer": "python3"
  }
 },
 "nbformat": 4,
 "nbformat_minor": 5
}
